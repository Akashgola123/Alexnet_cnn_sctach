{
  "nbformat": 4,
  "nbformat_minor": 0,
  "metadata": {
    "colab": {
      "provenance": [],
      "authorship_tag": "ABX9TyOXana7C8Cf0K6XnElqMJZ5",
      "include_colab_link": true
    },
    "kernelspec": {
      "name": "python3",
      "display_name": "Python 3"
    },
    "language_info": {
      "name": "python"
    }
  },
  "cells": [
    {
      "cell_type": "markdown",
      "metadata": {
        "id": "view-in-github",
        "colab_type": "text"
      },
      "source": [
        "<a href=\"https://colab.research.google.com/github/Akashgola123/Alexnet_cnn_sctach/blob/main/Lenet_cnn_Artihecture.ipynb\" target=\"_parent\"><img src=\"https://colab.research.google.com/assets/colab-badge.svg\" alt=\"Open In Colab\"/></a>"
      ]
    },
    {
      "cell_type": "code",
      "execution_count": 2,
      "metadata": {
        "id": "NreG5gkW1Ikg"
      },
      "outputs": [],
      "source": [
        "import torch\n",
        "from torchsummary import summary\n",
        "import torch.nn as nn\n",
        "import torch.nn.functional as F"
      ]
    },
    {
      "cell_type": "code",
      "source": [
        "class AlexNet(nn.Module):\n",
        "  def __init__(self, num_classes=1000):\n",
        "    # Call the parent class's init method to initialize the base class\n",
        "    super(AlexNet, self).__init__()\n",
        "\n",
        "    # First Convolutional Layer with 11x11 filters, stride of 4, and 2 padding\n",
        "    self.conv1 = nn.Conv2d(in_channels=3, out_channels=96, kernel_size=11, stride=4, padding=2)"
      ],
      "metadata": {
        "id": "LWwr7rST2IM_"
      },
      "execution_count": 3,
      "outputs": []
    },
    {
      "cell_type": "code",
      "source": [
        "    # Max Pooling Layer with a kernel size of 3 and stride of 2\n",
        "    self.pool = nn.MaxPool2d(kernel_size=3, stride=2)\n",
        "\n",
        "    # Second Convolutional Layer with 5x5 filters and 2 padding\n",
        "    self.conv2 = nn.Conv2d(in_channels=96, out_channels=256, kernel_size=5, padding=2)\n",
        "\n",
        "    # Third Convolutional Layer with 3x3 filters and 1 padding\n",
        "    self.conv3 = nn.Conv2d(in_channels=256, out_channels=384, kernel_size=3, padding=1)"
      ],
      "metadata": {
        "id": "0XUDtaNh5oI0"
      },
      "execution_count": null,
      "outputs": []
    },
    {
      "cell_type": "code",
      "source": [
        " # Fourth Convolutional Layer with 3x3 filters and 1 padding\n",
        "    self.conv4 = nn.Conv2d(in_channels=384, out_channels=384, kernel_size=3, padding=1)\n",
        "\n",
        "    # Fifth Convolutional Layer with 3x3 filters and 1 padding\n",
        "    self.conv5 = nn.Conv2d(in_channels=384, out_channels=256, kernel_size=3, padding=1)\n",
        "\n",
        "    # First Fully Connected Layer with 4096 output features\n",
        "    self.fc1 = nn.Linear(in_features=256 * 6 * 6, out_features=4096)\n"
      ],
      "metadata": {
        "id": "QwPMvUav5oFe"
      },
      "execution_count": null,
      "outputs": []
    },
    {
      "cell_type": "code",
      "source": [
        "  # Second Fully Connected Layer with 4096 output features\n",
        "    self.fc2 = nn.Linear(in_features=4096, out_features=4096)\n",
        "\n",
        "    # Output Layer with `num_classes` output features\n",
        "    self.fc3 = nn.Linear(in_features=4096, out_features=num_classes)\n"
      ],
      "metadata": {
        "id": "s0WyQIom5n8n"
      },
      "execution_count": null,
      "outputs": []
    },
    {
      "cell_type": "code",
      "source": [
        "def forward(self, x):\n",
        "  # Pass the input through the first convolutional layer and ReLU activation function\n",
        "  x = self.pool(F.relu(self.conv1(x)))\n",
        "\n",
        "  # Pass the output of the first layer through\n",
        "  # the second convolutional layer and ReLU activation function\n",
        "  x = self.pool(F.relu(self.conv2(x)))\n",
        "\n",
        "  # Pass the output of the second layer through\n",
        "  # the third convolutional layer and ReLU activation function\n",
        "  x = F.relu(self.conv3(x))\n",
        "\n",
        "  # Pass the output of the third layer through\n",
        "  # the fourth convolutional layer and ReLU activation function\n",
        "  x = F.relu(self.conv4(x))"
      ],
      "metadata": {
        "id": "Zq0djeb85n5N"
      },
      "execution_count": null,
      "outputs": []
    },
    {
      "cell_type": "code",
      "source": [
        "  # Pass the output of the fourth layer through\n",
        "  # the fifth convolutional layer and ReLU activation function\n",
        "  x = self.pool(F.relu(self.conv5(x)))\n",
        "\n",
        "  # Reshape the output to be passed through the fully connected layers\n",
        "  x = x.view(-1, 256 * 6 * 6)\n",
        "\n",
        "  # Pass the output through the first fully connected layer and activation function\n",
        "  x = F.relu(self.fc1(x))\n",
        "  x = F.dropout(x, 0.5)"
      ],
      "metadata": {
        "id": "EZ1T9Nza5n2T"
      },
      "execution_count": null,
      "outputs": []
    },
    {
      "cell_type": "code",
      "source": [
        "  # Pass the output of the first fully connected layer through\n",
        "  # the second fully connected layer and activation function\n",
        "  x = F.relu(self.fc2(x))\n",
        "\n",
        "  # Pass the output of the second fully connected layer through the output layer\n",
        "  x = self.fc3(x)\n",
        "\n",
        "  # Return the final output\n",
        "  return x"
      ],
      "metadata": {
        "id": "7FckKp0D3OUM"
      },
      "execution_count": 4,
      "outputs": []
    },
    {
      "cell_type": "code",
      "source": [
        "alexnet = AlexNet()\n",
        "print(alexnet)"
      ],
      "metadata": {
        "colab": {
          "base_uri": "https://localhost:8080/"
        },
        "id": "IwhB0qMW3Q3A",
        "outputId": "cf4d0b0e-7de9-433e-a428-550a19cf9693"
      },
      "execution_count": 5,
      "outputs": [
        {
          "output_type": "stream",
          "name": "stdout",
          "text": [
            "AlexNet(\n",
            "  (conv1): Conv2d(3, 96, kernel_size=(11, 11), stride=(4, 4), padding=(2, 2))\n",
            "  (pool): MaxPool2d(kernel_size=3, stride=2, padding=0, dilation=1, ceil_mode=False)\n",
            "  (conv2): Conv2d(96, 256, kernel_size=(5, 5), stride=(1, 1), padding=(2, 2))\n",
            "  (conv3): Conv2d(256, 384, kernel_size=(3, 3), stride=(1, 1), padding=(1, 1))\n",
            "  (conv4): Conv2d(384, 384, kernel_size=(3, 3), stride=(1, 1), padding=(1, 1))\n",
            "  (conv5): Conv2d(384, 256, kernel_size=(3, 3), stride=(1, 1), padding=(1, 1))\n",
            "  (fc1): Linear(in_features=9216, out_features=4096, bias=True)\n",
            "  (fc2): Linear(in_features=4096, out_features=4096, bias=True)\n",
            "  (fc3): Linear(in_features=4096, out_features=1000, bias=True)\n",
            ")\n"
          ]
        }
      ]
    }
  ]
}